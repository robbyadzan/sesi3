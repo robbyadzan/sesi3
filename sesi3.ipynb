{
 "cells": [
  {
   "cell_type": "code",
   "execution_count": 57,
   "id": "6590b14d-7e1e-4ccd-89e6-0a4710f07598",
   "metadata": {},
   "outputs": [
    {
     "name": "stdout",
     "output_type": "stream",
     "text": [
      "Nama : Ade\n",
      "Umur : 18\n",
      "Alamat : Jampang Tengah\n",
      "Nilai : 84.5\n",
      "Status Menikah : False\n",
      "Type Data <name> <class 'str'>\n",
      "Type Data <age> <class 'int'>\n",
      "Type Data <address> <class 'str'>\n",
      "Type Data <nilai> <class 'float'>\n",
      "Type Data <isMarried> <class 'bool'>\n"
     ]
    }
   ],
   "source": [
    "name = \"Ade\"\n",
    "age = 18\n",
    "address,province = \"Jampang Tengah\", \"083804967816\"\n",
    "scorePython = 84.5\n",
    "isMarried = False\n",
    "\n",
    "print(\"Nama :\", name)\n",
    "print(\"Umur :\", age)\n",
    "print(\"Alamat :\", address)\n",
    "print(\"Nilai :\", scorePython)\n",
    "print(\"Status Menikah :\", isMarried)\n",
    "\n",
    "print(\"Type Data <name>\", type(name))\n",
    "print(\"Type Data <age>\", type(age))\n",
    "print(\"Type Data <address>\", type(address))\n",
    "print(\"Type Data <nilai>\", type(scorePython))\n",
    "print(\"Type Data <isMarried>\", type(isMarried))"
   ]
  },
  {
   "cell_type": "code",
   "execution_count": 59,
   "id": "98292e5d-438e-4730-be8b-72feba5e9d53",
   "metadata": {},
   "outputs": [
    {
     "name": "stdout",
     "output_type": "stream",
     "text": [
      "83804967816-83804967816.0-True\n",
      "83804967816-18.0-True\n",
      "84.5-84-True\n",
      "False-0.0-0\n"
     ]
    }
   ],
   "source": [
    "#Konversi dari sString ke INT,Float, Bool\n",
    "strToInt = int(province)\n",
    "strToFloat = float(province)\n",
    "strToBool = bool(province)\n",
    "print(strToInt, strToFloat,strToBool, sep=\"-\")\n",
    "\n",
    "#Konversi dari int ke Str,float,bool\n",
    "intToStr = str(age)\n",
    "intToFloat = float(age)\n",
    "intToBool = bool(age)\n",
    "print(strToInt, intToFloat, intToBool, sep=\"-\")\n",
    "\n",
    "#Konversi dari Float ke Str,int,bool\n",
    "floatToStr = str(scorePython)\n",
    "floatToInt = int(scorePython)\n",
    "floatToBool = bool(scorePython)\n",
    "print(floatToStr, floatToInt, floatToBool, sep=\"-\")\n",
    "\n",
    "#Konversi dari int ke Str,float,bool\n",
    "boolToStr = str(isMarried)\n",
    "boolToFloat = float(isMarried)\n",
    "boolToInt = int(isMarried)\n",
    "print(boolToStr, boolToFloat, boolToInt, sep=\"-\")"
   ]
  },
  {
   "cell_type": "code",
   "execution_count": 61,
   "id": "01ad9697-3154-46d4-9a7a-ae0e4e54ddf6",
   "metadata": {},
   "outputs": [
    {
     "name": "stdout",
     "output_type": "stream",
     "text": [
      "Nilai desimal :  500\n",
      "Nilai biner :  10\n",
      "Nilai octal :  255\n",
      "Nilai hexa :  255\n",
      "Nilai binner dari  500 : 0b111110100\n",
      "Nilai octal dari  500 : 0o764\n",
      "Nilai hexa dari  500 : 0x1f4\n"
     ]
    }
   ],
   "source": [
    "#type data basis bilangan\n",
    "\n",
    "desimal = 500\n",
    "biner = 0b1010 #10\n",
    "octal = 0o377 #255\n",
    "hexa = 0xff #255\n",
    "\n",
    "print(\"Nilai desimal : \", desimal)\n",
    "print(\"Nilai biner : \", biner)\n",
    "print(\"Nilai octal : \", octal)\n",
    "print(\"Nilai hexa : \", hexa)\n",
    "\n",
    "print(\"Nilai binner dari \", desimal, \":\", bin(desimal))\n",
    "print(\"Nilai octal dari \", desimal, \":\", oct(desimal))\n",
    "print(\"Nilai hexa dari \", desimal, \":\", hex(desimal))"
   ]
  },
  {
   "cell_type": "code",
   "execution_count": 72,
   "id": "06278d4a-7010-4c81-8c10-169774fd4040",
   "metadata": {},
   "outputs": [
    {
     "name": "stdout",
     "output_type": "stream",
     "text": [
      "['Bandung', 'Jakarta', 'Sukabumi', 'Bogor', 'Bali']\n",
      "Bandung\n",
      "Bali\n",
      "B\n",
      "i\n",
      "['Depok', 'Jakarta', 'Sukabumi', 'Bogor', 'Bali']\n",
      "('Naban', 'Ade', 'RobbyAnanda')\n",
      "Ade\n",
      "{'name': 'Naban', 'age': 19, 'address': {'street': 'JL cikukulu', 'number': 1, 'province': 'Jawa Barat'}, 'isMarried': False, 'hobbies': ['Ngedit', 'Gaming']}\n",
      "19\n",
      "Jawa Barat\n",
      "Ngedit\n",
      "{'name': 'Ade', 'age': 19, 'address': {'street': 'Sukabumi', 'number': 12, 'province': 'Jawa Barat'}, 'isMarried': False, 'hobbies': ['jadi Vtuber', 'Gaming']}\n",
      "{'name': 'Robby', 'age': 19, 'address': {'street': 'Sukabumi', 'number': 123, 'province': 'Jawa Barat'}, 'isMarried': False, 'hobbies': ['Ngaca', 'Gaming']}\n",
      "Jawa Barat\n"
     ]
    }
   ],
   "source": [
    "#type Data Collection\n",
    "\n",
    "#list\n",
    "cities = [\"Bandung\", \"Jakarta\", \"Sukabumi\", \"Bogor\", \"Bali\"]\n",
    "lengthCities = len(cities)\n",
    "print(cities)\n",
    "print(cities[0])\n",
    "print(cities[lengthCities-1])\n",
    "print(cities[lengthCities-1][0])\n",
    "print(cities[lengthCities-1] [len(cities[lengthCities-1])-1])\n",
    "cities[0] = \"Depok\"\n",
    "print (cities)\n",
    "\n",
    "#tuple\n",
    "names = (\"Naban\", \"Ade\", \"Robby\" \"Ananda\")\n",
    "print(names)\n",
    "print(names[1])\n",
    "\n",
    "#Disctionary\n",
    "studentData = {\n",
    "    \"name\" : \"Naban\",\n",
    "    \"age\" : 19,\n",
    "    \"address\" : {\n",
    "        \"street\" : \"JL cikukulu\",\n",
    "        \"number\" : 1,\n",
    "        \"province\" : \"Jawa Barat\"\n",
    "    },\n",
    "    \"isMarried\" : False,\n",
    "    \"hobbies\" : [\"Ngedit\",\"Gaming\"]\n",
    "}\n",
    "\n",
    "print(studentData)\n",
    "print(studentData[\"age\"])\n",
    "print(studentData[\"address\"] [\"province\"])\n",
    "print(studentData[\"hobbies\"][0])\n",
    "\n",
    "#listDictinary\n",
    "studentList = [\n",
    "    {\n",
    "        \"name\" : \"Ade\",\n",
    "        \"age\" : 19,\n",
    "        \"address\" : {\n",
    "            \"street\" : \"Sukabumi\",\n",
    "            \"number\" : 12,\n",
    "            \"province\" : \"Jawa Barat\"\n",
    "        },\n",
    "        \"isMarried\" : False,\n",
    "        \"hobbies\" : [\"jadi Vtuber\",\"Gaming\"]\n",
    "    },\n",
    "    {\n",
    "        \"name\" : \"Robby\",\n",
    "        \"age\" : 19,\n",
    "        \"address\" : {\n",
    "            \"street\" : \"Sukabumi\",\n",
    "            \"number\" : 123,\n",
    "            \"province\" : \"Jawa Barat\"\n",
    "        },\n",
    "        \"isMarried\" : False,\n",
    "        \"hobbies\" : [\"Ngaca\",\"Gaming\"]\n",
    "    },\n",
    "    {\n",
    "        \"name\" : \"Ananda\",\n",
    "        \"age\" : 19,\n",
    "        \"address\" : {\n",
    "            \"street\" : \"Sukabumi\",\n",
    "            \"number\" : 123,\n",
    "            \"province\" : \"Jawa Barat\"\n",
    "        },\n",
    "        \"isMarried\" : False,\n",
    "        \"hobbies\" : [\"Ngaca\",\"Gaming\"]\n",
    "        \n",
    "    },\n",
    "]\n",
    "print(studentList[0])\n",
    "print(studentList[1])\n",
    "print(studentList[1][\"address\"][\"province\"])"
   ]
  },
  {
   "cell_type": "code",
   "execution_count": 74,
   "id": "a61fb8a5-eeea-4f07-bd0e-78c43a3bd375",
   "metadata": {},
   "outputs": [
    {
     "name": "stdout",
     "output_type": "stream",
     "text": [
      "{'Name': 'Ade', 'Age': 19, 'Status': True}\n",
      "{'Name': 'Ade', 'Address': ' Sukabumi'}\n",
      "{'Name': 'Ade', 'Type': 'Mamalia'}\n",
      "{'Name': 'Crocodile', 'Type': 'Reptil'}\n",
      "{'Vehicle': 'Car', 'Brand': 'Koenisegg', 'CC': 1700}\n"
     ]
    }
   ],
   "source": [
    "#Conversi Dictionary\n",
    "\n",
    "list_list = [[\"Name\", \"Ade\"], [\"Age\",19], [\"Status\", True]]\n",
    "dictListStudent = dict(list_list)\n",
    "print(dictListStudent)\n",
    "\n",
    "list_tuple = [(\"Name\", \"Ade\"), (\"Address\",\" Sukabumi\")]\n",
    "dictTupleStudent = dict(list_tuple)\n",
    "print(dictTupleStudent)\n",
    "\n",
    "tuple_list = ([\"Name\", \"Ade\"], [\"Type\",\"Mamalia\"])\n",
    "dictListAnimal = dict(tuple_list)\n",
    "print(dictListAnimal)\n",
    "\n",
    "tuple_tuple = ((\"Name\",\"Crocodile\"),(\"Type\",\"Reptil\"))\n",
    "dictTupleAnimal = dict(tuple_tuple)\n",
    "print(dictTupleAnimal)\n",
    "\n",
    "keys = [\"Vehicle\", \"Brand\", \"CC\"]\n",
    "values = [\"Car\", \"Koenisegg\", 1700]\n",
    "car = dict(zip(keys,values))\n",
    "print(car)"
   ]
  }
 ],
 "metadata": {
  "kernelspec": {
   "display_name": "Python [conda env:base] *",
   "language": "python",
   "name": "conda-base-py"
  },
  "language_info": {
   "codemirror_mode": {
    "name": "ipython",
    "version": 3
   },
   "file_extension": ".py",
   "mimetype": "text/x-python",
   "name": "python",
   "nbconvert_exporter": "python",
   "pygments_lexer": "ipython3",
   "version": "3.12.7"
  }
 },
 "nbformat": 4,
 "nbformat_minor": 5
}
