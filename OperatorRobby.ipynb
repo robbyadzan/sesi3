{
 "cells": [
  {
   "cell_type": "code",
   "execution_count": 4,
   "id": "63cdc94d-b391-47d8-8063-d7948c214f27",
   "metadata": {},
   "outputs": [
    {
     "name": "stdout",
     "output_type": "stream",
     "text": [
      "Setiap temannya mendapat 3.0 buah apel\n",
      "Jumlah apel Budi jika sudah ditambah menjadi: 20 buah\n",
      "Maka setiap teman Budi mendapat 5.0 buah apel setelah ditambah\n"
     ]
    }
   ],
   "source": [
    "#Operator Aritmatika\n",
    "\n",
    "JumlahApel = 12\n",
    "JumlahTeman = 4 \n",
    "\n",
    "ApelPerOrang = JumlahApel / JumlahTeman \n",
    "print(\"Setiap temannya mendapat\", ApelPerOrang, \"buah apel\")\n",
    "\n",
    "TambahanApel = 8 \n",
    "KeseluruhanApel = JumlahApel + TambahanApel\n",
    "print(\"Jumlah apel Budi jika sudah ditambah menjadi:\", KeseluruhanApel, \"buah\")\n",
    "\n",
    "#Jika seluruh jumlah apel dibagi dengan ke-4 temannya\n",
    "Total = KeseluruhanApel / JumlahTeman \n",
    "print(\"Maka setiap teman Budi mendapat\", Total, \"buah apel setelah ditambah\")"
   ]
  },
  {
   "cell_type": "code",
   "execution_count": 6,
   "id": "c8cd9499-6586-4108-b14f-34d3197c49ec",
   "metadata": {},
   "outputs": [
    {
     "name": "stdout",
     "output_type": "stream",
     "text": [
      "Apakah 160 = 165 ? False\n",
      "Apakah 160 != 165 ? True\n",
      "Apakah 160 > 165 ? False\n",
      "Kesimpulannya, yang lebih tinggi adalah Andi dengan tinggi 165 cm\n"
     ]
    }
   ],
   "source": [
    "#Operator Perbandingan\n",
    "\n",
    "TinggiSiti = 160\n",
    "TinggiAndi = 165\n",
    "\n",
    "print(\"Apakah\", TinggiSiti, \"=\", TinggiAndi, \"?\", TinggiSiti == TinggiAndi)\n",
    "print(\"Apakah\", TinggiSiti, \"!=\", TinggiAndi, \"?\", TinggiSiti != TinggiAndi)\n",
    "print(\"Apakah\", TinggiSiti, \">\", TinggiAndi, \"?\", TinggiSiti > TinggiAndi)\n",
    "print(\"Kesimpulannya, yang lebih tinggi adalah Andi dengan tinggi\", TinggiAndi, \"cm\")"
   ]
  },
  {
   "cell_type": "code",
   "execution_count": 8,
   "id": "df153aaf-7609-4aed-aa43-946d831d19b6",
   "metadata": {},
   "outputs": [
    {
     "name": "stdout",
     "output_type": "stream",
     "text": [
      "Apakah CuacaCerah and PrSelesai bernilai true? True\n",
      "Artinya Budi boleh bermain di luar\n"
     ]
    }
   ],
   "source": [
    "#Operator Logika\n",
    "\n",
    "CuacaCerah = True \n",
    "PrSelesai = True\n",
    "\n",
    "print(\"Apakah CuacaCerah and PrSelesai bernilai true?\", CuacaCerah and PrSelesai )\n",
    "print(\"Artinya Budi boleh bermain di luar\")"
   ]
  },
  {
   "cell_type": "code",
   "execution_count": 10,
   "id": "7827e419-237c-439d-bbaf-284a02b2641f",
   "metadata": {},
   "outputs": [
    {
     "name": "stdin",
     "output_type": "stream",
     "text": [
      "Insert bilangan 1:  2\n",
      "Insert bilangan 2:  7\n"
     ]
    },
    {
     "name": "stdout",
     "output_type": "stream",
     "text": [
      "\n",
      "0b10\n",
      "0b111\n",
      "==========\n",
      "0b10 = 2\n",
      "\n",
      "0b10\n",
      "0b111\n",
      "==========\n",
      "0b111 = 7\n",
      "\n",
      "0b10\n",
      "0b111\n",
      "==========\n",
      "0b101 = 5\n",
      "\n"
     ]
    }
   ],
   "source": [
    "num1 = int(input(\"Insert bilangan 1: \"))\n",
    "num2 = int(input(\"Insert bilangan 2: \"))\n",
    "\n",
    "print()\n",
    "bAnd = num1&num2\n",
    "print(bin(num1))\n",
    "print(bin(num2))\n",
    "print(\"==========\")\n",
    "print(bin(bAnd),\"=\",bAnd)\n",
    "print()\n",
    "bOr = num1|num2\n",
    "print(bin(num1))\n",
    "print(bin(num2))\n",
    "print(\"==========\")\n",
    "print(bin(bOr),\"=\",bOr)\n",
    "print()\n",
    "bXor = num1^num2\n",
    "print(bin(num1))\n",
    "print(bin(num2))\n",
    "print(\"==========\")\n",
    "print(bin(bXor),\"=\",bXor)\n",
    "print()"
   ]
  },
  {
   "cell_type": "code",
   "execution_count": 12,
   "id": "1496ff49-986d-4574-944d-35d818a0fb1b",
   "metadata": {
    "scrolled": true
   },
   "outputs": [
    {
     "name": "stdin",
     "output_type": "stream",
     "text": [
      "Masukan nominal pulsa anda : 50\n"
     ]
    },
    {
     "name": "stdout",
     "output_type": "stream",
     "text": [
      "Saldo pulsa anda adalah:  50\n",
      "Setelah diisi ulang : 20050\n",
      "Setelah dibelikan kouta, sisa pulsa anda adalah:  -9950\n"
     ]
    }
   ],
   "source": [
    "pulsa = int(input(\"Masukan nominal pulsa anda :\"))\n",
    "print (\"Saldo pulsa anda adalah: \", pulsa)\n",
    "pulsa += 20000\n",
    "print (\"Setelah diisi ulang :\", pulsa)\n",
    "pulsa -= 30000\n",
    "print (\"Setelah dibelikan kouta, sisa pulsa anda adalah: \", pulsa)"
   ]
  },
  {
   "cell_type": "code",
   "execution_count": 14,
   "id": "bea7d67a-896d-4209-ad39-2ed84b87ce35",
   "metadata": {},
   "outputs": [
    {
     "name": "stdin",
     "output_type": "stream",
     "text": [
      "cari peserta:  robby\n"
     ]
    },
    {
     "name": "stdout",
     "output_type": "stream",
     "text": [
      "Is there any robby in ['Andi', 'Budi', 'Citra', 'Dewi'] ?\n",
      "False\n",
      "\n",
      "Saya suka belajar Python\n",
      "adakah kata Python pada Saya suka belajar Python ?\n",
      "True\n"
     ]
    }
   ],
   "source": [
    "listpeserta = [\"Andi\",\"Budi\",\"Citra\",\"Dewi\"]\n",
    "findpeserta = input (\"cari peserta: \")\n",
    "print(\"Is there any\",findpeserta,\"in\",listpeserta,\"?\",)\n",
    "print (\"False\") if findpeserta not in listpeserta else (\"True\")  \n",
    "print()\n",
    "\n",
    "kalimat = \"Saya suka belajar Python\"\n",
    "cekkata = \"Python\"\n",
    "print (kalimat)\n",
    "print(\"adakah kata\", cekkata, \"pada\", kalimat,\"?\")\n",
    "print (cekkata in kalimat)"
   ]
  },
  {
   "cell_type": "code",
   "execution_count": 16,
   "id": "d2e39158-c5fb-4112-9bca-1f75ebcd8105",
   "metadata": {},
   "outputs": [
    {
     "name": "stdout",
     "output_type": "stream",
     "text": [
      "apakah x dan y mengacu pada objek yang sama? True\n",
      "apakah a dan b mengacu pada objek yang sama? True\n",
      "apakah a dan b mengacu pada objek yang sama? False\n"
     ]
    }
   ],
   "source": [
    "#Operator Identitas\n",
    "x = 7\n",
    "y = 7\n",
    "\n",
    "hasil = x is y\n",
    "print(\"apakah x dan y mengacu pada objek yang sama?\",hasil)\n",
    "\n",
    "a = \"kamu\"\n",
    "b = \"kamu\"\n",
    "\n",
    "hasil = a is b\n",
    "print(\"apakah a dan b mengacu pada objek yang sama?\",hasil)\n",
    "\n",
    "list1 = [\"12\",\"13\",\"14\"]\n",
    "list2 = [\"12\",\"13\",\"14\"]\n",
    "\n",
    "hasil = list1 is list2\n",
    "print(\"apakah a dan b mengacu pada objek yang sama?\",hasil)"
   ]
  },
  {
   "cell_type": "code",
   "execution_count": 18,
   "id": "6919ac44-ecc5-4b15-9c00-356ef8209f83",
   "metadata": {},
   "outputs": [
    {
     "name": "stdin",
     "output_type": "stream",
     "text": [
      "Isikan angka: 90\n"
     ]
    },
    {
     "name": "stdout",
     "output_type": "stream",
     "text": [
      "Tidak lebih besar dari 100\n"
     ]
    },
    {
     "name": "stdin",
     "output_type": "stream",
     "text": [
      "Isi nilai: 100\n"
     ]
    },
    {
     "name": "stdout",
     "output_type": "stream",
     "text": [
      "Anda Lulus\n"
     ]
    }
   ],
   "source": [
    "#Operator Ternary\n",
    "angka = int(input(\"Isikan angka:\"))\n",
    "hasil = \"Lebih besar dari 100\" if angka > 100 else \"Tidak lebih besar dari 100\"\n",
    "print(hasil)\n",
    "\n",
    "nilai_ujian = int(input(\"Isi nilai:\"))\n",
    "status = \"Anda Lulus\" if nilai_ujian > 70 else \"Anda Tidak Lulus\"\n",
    "print(status)"
   ]
  }
 ],
 "metadata": {
  "kernelspec": {
   "display_name": "Python [conda env:base] *",
   "language": "python",
   "name": "conda-base-py"
  },
  "language_info": {
   "codemirror_mode": {
    "name": "ipython",
    "version": 3
   },
   "file_extension": ".py",
   "mimetype": "text/x-python",
   "name": "python",
   "nbconvert_exporter": "python",
   "pygments_lexer": "ipython3",
   "version": "3.12.7"
  }
 },
 "nbformat": 4,
 "nbformat_minor": 5
}
